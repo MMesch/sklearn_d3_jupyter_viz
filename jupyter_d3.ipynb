{
 "cells": [
  {
   "cell_type": "code",
   "execution_count": 18,
   "metadata": {
    "collapsed": true
   },
   "outputs": [],
   "source": [
    "import numpy as np\n",
    "import pandas as pd\n",
    "import seaborn as sns\n",
    "from IPython.core.display import display, HTML, Javascript\n",
    "import json\n",
    "    \n",
    "def recurse(model, node=None, rules=None, feature_names=None, feature_type=None):\n",
    "    if node is None:\n",
    "        node = 0\n",
    "        \n",
    "    if rules is None:\n",
    "        rules = {'name': 'node{:d}'.format(node),\n",
    "                 'rule': 'root',\n",
    "                 'values': list(model.tree_.value[node].flatten())}\n",
    "        \n",
    "    if model.tree_.feature[node] != _tree.TREE_UNDEFINED:\n",
    "        i_feature = model.tree_.feature[node]            \n",
    "        threshold = model.tree_.threshold[node]\n",
    "        child_left = model.tree_.children_left[node]\n",
    "        child_right = model.tree_.children_right[node]\n",
    "        \n",
    "        if feature_names is not None:\n",
    "            name = feature_names[i_feature]\n",
    "        else:\n",
    "            name = i_feature\n",
    "                  \n",
    "        if feature_type == 'boolean':\n",
    "            rule_left = '{} is False'.format(name)\n",
    "            rule_right = '{} is True'.format(name)\n",
    "        else:\n",
    "            try:\n",
    "                isboolean = feature_type[i_feature]\n",
    "                if isboolean:\n",
    "                    rule_left = '{} is False'.format(name)\n",
    "                    rule_right = '{} is True'.format(name)\n",
    "                else:\n",
    "                    rule_left = '{} {} {:2.2g} '.format(name, '<', threshold)\n",
    "                    rule_right = '{} {} {:2.2g} '.format(name, '>', threshold)\n",
    "            except:\n",
    "                rule_left = '{} {} {:2.2g} '.format(name, '<', threshold)\n",
    "                rule_right = '{} {} {:2.2g} '.format(name, '>', threshold)\n",
    "        \n",
    "        rules['children'] = [{'name': 'node{:d}'.format(child_left),\n",
    "                              'rule': rule_left,\n",
    "                              'values': list(model.tree_.value[child_left].flatten()),\n",
    "                              'impurity': model.tree_.impurity[child_left]},\n",
    "                             {'name': 'node{:d}'.format(child_right),\n",
    "                              'rule': rule_right,\n",
    "                              'values': list(model.tree_.value[child_right].flatten()),\n",
    "                              'impurity': model.tree_.impurity[child_left]}]\n",
    "        \n",
    "        recurse(model, child_left, rules['children'][0], feature_names=feature_names,\n",
    "                feature_type=feature_type)\n",
    "        recurse(model, child_right, rules['children'][1], feature_names=feature_names,\n",
    "                feature_type=feature_type)\n",
    "    return rules"
   ]
  },
  {
   "cell_type": "code",
   "execution_count": 19,
   "metadata": {
    "collapsed": false
   },
   "outputs": [
    {
     "data": {
      "application/javascript": [
       "\n",
       "require.config({\n",
       "    paths: {\n",
       "        d3: 'https://d3js.org/d3.v4.min',\n",
       "        tree: 'http://localhost:8888/files/tree'\n",
       "    }\n",
       "});"
      ],
      "text/plain": [
       "<IPython.core.display.Javascript object>"
      ]
     },
     "metadata": {},
     "output_type": "display_data"
    }
   ],
   "source": [
    "%%javascript\n",
    "\n",
    "require.config({\n",
    "    paths: {\n",
    "        d3: 'https://d3js.org/d3.v4.min',\n",
    "        tree: 'http://localhost:8888/files/tree'\n",
    "    }\n",
    "});"
   ]
  },
  {
   "cell_type": "code",
   "execution_count": 20,
   "metadata": {
    "collapsed": false
   },
   "outputs": [],
   "source": [
    "from sklearn.tree import DecisionTreeClassifier\n",
    "from sklearn.tree import _tree\n",
    "\n",
    "data = sns.load_dataset('iris')\n",
    "X, y = data.drop('species', axis=1), data['species']\n",
    "\n",
    "model = DecisionTreeClassifier()\n",
    "model.fit(X, y)\n",
    "\n",
    "rules = recurse(model, feature_names=X.columns)\n",
    "rules['class_names'] = list(model.classes_)"
   ]
  },
  {
   "cell_type": "code",
   "execution_count": 21,
   "metadata": {
    "collapsed": false
   },
   "outputs": [
    {
     "data": {
      "text/html": [
       "\n",
       "<style>\n",
       "    .chart {\n",
       "        width: 800px;\n",
       "        height: 600px;\n",
       "        padding: 10px;\n",
       "        display: block;\n",
       "    }\n",
       "</style>\n",
       "<div id=\"chart1\" class=\"chart\"></div>\n",
       "<script>\n",
       "require(['d3', 'tree'], function(d3){\n",
       "    var data = {\"values\": [50.0, 50.0, 50.0], \"name\": \"node0\", \"rule\": \"root\", \"class_names\": [\"setosa\", \"versicolor\", \"virginica\"], \"children\": [{\"values\": [50.0, 0.0, 0.0], \"name\": \"node1\", \"rule\": \"petal_length < 2.5 \", \"impurity\": 0.0}, {\"values\": [0.0, 50.0, 50.0], \"name\": \"node2\", \"rule\": \"petal_length > 2.5 \", \"impurity\": 0.0, \"children\": [{\"values\": [0.0, 49.0, 5.0], \"name\": \"node3\", \"rule\": \"petal_width < 1.8 \", \"impurity\": 0.16803840877914955, \"children\": [{\"values\": [0.0, 47.0, 1.0], \"name\": \"node4\", \"rule\": \"petal_length < 4.9 \", \"impurity\": 0.04079861111111116, \"children\": [{\"values\": [0.0, 47.0, 0.0], \"name\": \"node5\", \"rule\": \"petal_width < 1.7 \", \"impurity\": 0.0}, {\"values\": [0.0, 0.0, 1.0], \"name\": \"node6\", \"rule\": \"petal_width > 1.7 \", \"impurity\": 0.0}]}, {\"values\": [0.0, 2.0, 4.0], \"name\": \"node7\", \"rule\": \"petal_length > 4.9 \", \"impurity\": 0.04079861111111116, \"children\": [{\"values\": [0.0, 0.0, 3.0], \"name\": \"node8\", \"rule\": \"petal_width < 1.5 \", \"impurity\": 0.0}, {\"values\": [0.0, 2.0, 1.0], \"name\": \"node9\", \"rule\": \"petal_width > 1.5 \", \"impurity\": 0.0, \"children\": [{\"values\": [0.0, 2.0, 0.0], \"name\": \"node10\", \"rule\": \"sepal_length < 6.9 \", \"impurity\": 0.0}, {\"values\": [0.0, 0.0, 1.0], \"name\": \"node11\", \"rule\": \"sepal_length > 6.9 \", \"impurity\": 0.0}]}]}]}, {\"values\": [0.0, 1.0, 45.0], \"name\": \"node12\", \"rule\": \"petal_width > 1.8 \", \"impurity\": 0.16803840877914955, \"children\": [{\"values\": [0.0, 1.0, 2.0], \"name\": \"node13\", \"rule\": \"petal_length < 4.9 \", \"impurity\": 0.4444444444444444, \"children\": [{\"values\": [0.0, 1.0, 0.0], \"name\": \"node14\", \"rule\": \"sepal_length < 5.9 \", \"impurity\": 0.0}, {\"values\": [0.0, 0.0, 2.0], \"name\": \"node15\", \"rule\": \"sepal_length > 5.9 \", \"impurity\": 0.0}]}, {\"values\": [0.0, 0.0, 43.0], \"name\": \"node16\", \"rule\": \"petal_length > 4.9 \", \"impurity\": 0.4444444444444444}]}]}]};\n",
       "    var chart = document.getElementById(\"chart1\");\n",
       "    plot_tree(d3, data, chart);\n",
       "});\n",
       "</script>\n"
      ],
      "text/plain": [
       "<IPython.core.display.HTML object>"
      ]
     },
     "execution_count": 21,
     "metadata": {},
     "output_type": "execute_result"
    }
   ],
   "source": [
    "from string import Template\n",
    "\n",
    "html_template = Template(\n",
    "\"\"\"\n",
    "<style>\n",
    "    .chart {\n",
    "        width: 800px;\n",
    "        height: 600px;\n",
    "        padding: 10px;\n",
    "        display: block;\n",
    "    }\n",
    "</style>\n",
    "<div id=\"chart1\" class=\"chart\"></div>\n",
    "<script>\n",
    "require(['d3', 'tree'], function(d3){\n",
    "    var data = $data;\n",
    "    var chart = document.getElementById(\"chart1\");\n",
    "    plot_tree(d3, data, chart);\n",
    "});\n",
    "</script>\n",
    "\"\"\")\n",
    "\n",
    "html_string = html_template.substitute(data=json.dumps(rules))\n",
    "HTML(html_string)"
   ]
  },
  {
   "cell_type": "code",
   "execution_count": 22,
   "metadata": {
    "collapsed": false
   },
   "outputs": [
    {
     "name": "stdout",
     "output_type": "stream",
     "text": [
      "   Unnamed: 0  subject attention  solutions  score\n",
      "0           0        1   divided          1    2.0\n",
      "1           1        2   divided          1    3.0\n",
      "2           2        3   divided          1    3.0\n",
      "3           3        4   divided          1    5.0\n",
      "4           4        5   divided          1    4.0\n"
     ]
    }
   ],
   "source": [
    "from sklearn.tree import DecisionTreeClassifier\n",
    "from sklearn.tree import _tree\n",
    "\n",
    "data = sns.load_dataset('attention')\n",
    "print(data.head())\n",
    "X, y = data[['solutions', 'score']], data['attention']\n",
    "\n",
    "model = DecisionTreeClassifier()\n",
    "model.fit(X, y)\n",
    "\n",
    "rules = recurse(model, feature_names=X.columns)\n",
    "rules['class_names'] = list(model.classes_)"
   ]
  },
  {
   "cell_type": "code",
   "execution_count": 23,
   "metadata": {
    "collapsed": false
   },
   "outputs": [
    {
     "data": {
      "text/html": [
       "\n",
       "<style>\n",
       "    .chart {\n",
       "        width: 800px;\n",
       "        height: 600px;\n",
       "        padding: 10px;\n",
       "        display: block;\n",
       "    }\n",
       "</style>\n",
       "<div id=\"chart2\" class=\"chart\"></div>\n",
       "<script>\n",
       "require(['d3', 'tree'], function(d3){\n",
       "    var data = {\"values\": [30.0, 30.0], \"name\": \"node0\", \"rule\": \"root\", \"class_names\": [\"divided\", \"focused\"], \"children\": [{\"values\": [19.0, 4.0], \"name\": \"node1\", \"rule\": \"score < 5.5 \", \"impurity\": 0.2873345935727788, \"children\": [{\"values\": [9.0, 0.0], \"name\": \"node2\", \"rule\": \"score < 4.8 \", \"impurity\": 0.0}, {\"values\": [10.0, 4.0], \"name\": \"node3\", \"rule\": \"score > 4.8 \", \"impurity\": 0.0, \"children\": [{\"values\": [4.0, 1.0], \"name\": \"node4\", \"rule\": \"solutions < 1.5 \", \"impurity\": 0.31999999999999995}, {\"values\": [6.0, 3.0], \"name\": \"node5\", \"rule\": \"solutions > 1.5 \", \"impurity\": 0.31999999999999995, \"children\": [{\"values\": [4.0, 2.0], \"name\": \"node6\", \"rule\": \"solutions < 2.5 \", \"impurity\": 0.4444444444444444}, {\"values\": [2.0, 1.0], \"name\": \"node7\", \"rule\": \"solutions > 2.5 \", \"impurity\": 0.4444444444444444}]}]}]}, {\"values\": [11.0, 26.0], \"name\": \"node8\", \"rule\": \"score > 5.5 \", \"impurity\": 0.2873345935727788, \"children\": [{\"values\": [3.0, 17.0], \"name\": \"node9\", \"rule\": \"solutions < 2.5 \", \"impurity\": 0.255, \"children\": [{\"values\": [3.0, 9.0], \"name\": \"node10\", \"rule\": \"score < 7.5 \", \"impurity\": 0.375, \"children\": [{\"values\": [1.0, 6.0], \"name\": \"node11\", \"rule\": \"score < 6.5 \", \"impurity\": 0.24489795918367352, \"children\": [{\"values\": [1.0, 4.0], \"name\": \"node12\", \"rule\": \"solutions < 1.5 \", \"impurity\": 0.31999999999999995}, {\"values\": [0.0, 2.0], \"name\": \"node13\", \"rule\": \"solutions > 1.5 \", \"impurity\": 0.31999999999999995}]}, {\"values\": [2.0, 3.0], \"name\": \"node14\", \"rule\": \"score > 6.5 \", \"impurity\": 0.24489795918367352, \"children\": [{\"values\": [0.0, 2.0], \"name\": \"node15\", \"rule\": \"solutions < 1.5 \", \"impurity\": 0.0}, {\"values\": [2.0, 1.0], \"name\": \"node16\", \"rule\": \"solutions > 1.5 \", \"impurity\": 0.0}]}]}, {\"values\": [0.0, 8.0], \"name\": \"node17\", \"rule\": \"score > 7.5 \", \"impurity\": 0.375}]}, {\"values\": [8.0, 9.0], \"name\": \"node18\", \"rule\": \"solutions > 2.5 \", \"impurity\": 0.255, \"children\": [{\"values\": [8.0, 8.0], \"name\": \"node19\", \"rule\": \"score < 8.5 \", \"impurity\": 0.5, \"children\": [{\"values\": [6.0, 7.0], \"name\": \"node20\", \"rule\": \"score < 7.5 \", \"impurity\": 0.4970414201183432, \"children\": [{\"values\": [4.0, 4.0], \"name\": \"node21\", \"rule\": \"score < 6.5 \", \"impurity\": 0.5}, {\"values\": [2.0, 3.0], \"name\": \"node22\", \"rule\": \"score > 6.5 \", \"impurity\": 0.5}]}, {\"values\": [2.0, 1.0], \"name\": \"node23\", \"rule\": \"score > 7.5 \", \"impurity\": 0.4970414201183432}]}, {\"values\": [0.0, 1.0], \"name\": \"node24\", \"rule\": \"score > 8.5 \", \"impurity\": 0.5}]}]}]};\n",
       "    var chart = document.getElementById(\"chart2\");\n",
       "    plot_tree(d3, data, chart);\n",
       "});\n",
       "</script>\n"
      ],
      "text/plain": [
       "<IPython.core.display.HTML object>"
      ]
     },
     "execution_count": 23,
     "metadata": {},
     "output_type": "execute_result"
    }
   ],
   "source": [
    "html_template = Template(\n",
    "\"\"\"\n",
    "<style>\n",
    "    .chart {\n",
    "        width: 800px;\n",
    "        height: 600px;\n",
    "        padding: 10px;\n",
    "        display: block;\n",
    "    }\n",
    "</style>\n",
    "<div id=\"chart2\" class=\"chart\"></div>\n",
    "<script>\n",
    "require(['d3', 'tree'], function(d3){\n",
    "    var data = $data;\n",
    "    var chart = document.getElementById(\"chart2\");\n",
    "    plot_tree(d3, data, chart);\n",
    "});\n",
    "</script>\n",
    "\"\"\")\n",
    "\n",
    "html_string = html_template.substitute(data=json.dumps(rules))\n",
    "HTML(html_string)"
   ]
  },
  {
   "cell_type": "code",
   "execution_count": 28,
   "metadata": {
    "collapsed": false
   },
   "outputs": [],
   "source": [
    "from sklearn.tree import DecisionTreeClassifier\n",
    "from sklearn.tree import _tree\n",
    "\n",
    "data = sns.load_dataset('exercise')\n",
    "data['time'] = pd.to_timedelta(data['time']).apply(lambda x: x.total_seconds()/60)\n",
    "data = pd.concat([data, pd.get_dummies(data['diet'], drop_first=True, prefix='diet')],\n",
    "                                       axis=1)\n",
    "X, y = data[['diet_low fat', 'pulse', 'time']], data['kind']\n",
    "\n",
    "model = DecisionTreeClassifier(max_depth=4)\n",
    "model.fit(X, y)\n",
    "\n",
    "rules = recurse(model, feature_names=X.columns)\n",
    "rules['class_names'] = list(model.classes_)"
   ]
  },
  {
   "cell_type": "code",
   "execution_count": 29,
   "metadata": {
    "collapsed": false
   },
   "outputs": [
    {
     "data": {
      "text/html": [
       "\n",
       "<style>\n",
       "    .chart {\n",
       "        width: 800px;\n",
       "        height: 600px;\n",
       "        padding: 10px;\n",
       "        display: block;\n",
       "    }\n",
       "</style>\n",
       "<div id=\"chart3\" class=\"chart\"></div>\n",
       "<script>\n",
       "require(['d3', 'tree'], function(d3){\n",
       "    var data = {\"values\": [30.0, 30.0, 30.0], \"name\": \"node0\", \"rule\": \"root\", \"class_names\": [\"rest\", \"running\", \"walking\"], \"children\": [{\"values\": [30.0, 14.0, 30.0], \"name\": \"node1\", \"rule\": \"pulse < 1.1e+02 \", \"impurity\": 0.635500365230095, \"children\": [{\"values\": [27.0, 5.0, 19.0], \"name\": \"node2\", \"rule\": \"pulse < 98 \", \"impurity\": 0.5713187235678585, \"children\": [{\"values\": [5.0, 0.0, 0.0], \"name\": \"node3\", \"rule\": \"pulse < 84 \", \"impurity\": 0.0}, {\"values\": [22.0, 5.0, 19.0], \"name\": \"node4\", \"rule\": \"pulse > 84 \", \"impurity\": 0.0, \"children\": [{\"values\": [7.0, 5.0, 8.0], \"name\": \"node5\", \"rule\": \"time <  8 \", \"impurity\": 0.655}, {\"values\": [15.0, 0.0, 11.0], \"name\": \"node6\", \"rule\": \"time >  8 \", \"impurity\": 0.655}]}]}, {\"values\": [3.0, 9.0, 11.0], \"name\": \"node7\", \"rule\": \"pulse > 98 \", \"impurity\": 0.5713187235678585, \"children\": [{\"values\": [1.0, 5.0, 1.0], \"name\": \"node8\", \"rule\": \"pulse < 1e+02 \", \"impurity\": 0.44897959183673475, \"children\": [{\"values\": [1.0, 1.0, 1.0], \"name\": \"node9\", \"rule\": \"diet_low fat < 0.5 \", \"impurity\": 0.6666666666666667}, {\"values\": [0.0, 4.0, 0.0], \"name\": \"node10\", \"rule\": \"diet_low fat > 0.5 \", \"impurity\": 0.6666666666666667}]}, {\"values\": [2.0, 4.0, 10.0], \"name\": \"node11\", \"rule\": \"pulse > 1e+02 \", \"impurity\": 0.44897959183673475, \"children\": [{\"values\": [1.0, 4.0, 5.0], \"name\": \"node12\", \"rule\": \"time < 22 \", \"impurity\": 0.5800000000000001}, {\"values\": [1.0, 0.0, 5.0], \"name\": \"node13\", \"rule\": \"time > 22 \", \"impurity\": 0.5800000000000001}]}]}]}, {\"values\": [0.0, 16.0, 0.0], \"name\": \"node14\", \"rule\": \"pulse > 1.1e+02 \", \"impurity\": 0.635500365230095}]};\n",
       "    var chart = document.getElementById(\"chart3\");\n",
       "    plot_tree(d3, data, chart);\n",
       "});\n",
       "</script>\n"
      ],
      "text/plain": [
       "<IPython.core.display.HTML object>"
      ]
     },
     "execution_count": 29,
     "metadata": {},
     "output_type": "execute_result"
    }
   ],
   "source": [
    "html_template = Template(\n",
    "\"\"\"\n",
    "<style>\n",
    "    .chart {\n",
    "        width: 800px;\n",
    "        height: 600px;\n",
    "        padding: 10px;\n",
    "        display: block;\n",
    "    }\n",
    "</style>\n",
    "<div id=\"chart3\" class=\"chart\"></div>\n",
    "<script>\n",
    "require(['d3', 'tree'], function(d3){\n",
    "    var data = $data;\n",
    "    var chart = document.getElementById(\"chart3\");\n",
    "    plot_tree(d3, data, chart);\n",
    "});\n",
    "</script>\n",
    "\"\"\")\n",
    "\n",
    "html_string = html_template.substitute(data=json.dumps(rules))\n",
    "HTML(html_string)"
   ]
  }
 ],
 "metadata": {
  "kernelspec": {
   "display_name": "Python 3",
   "language": "python",
   "name": "python3"
  },
  "language_info": {
   "codemirror_mode": {
    "name": "ipython",
    "version": 3
   },
   "file_extension": ".py",
   "mimetype": "text/x-python",
   "name": "python",
   "nbconvert_exporter": "python",
   "pygments_lexer": "ipython3",
   "version": "3.5.3"
  }
 },
 "nbformat": 4,
 "nbformat_minor": 2
}
